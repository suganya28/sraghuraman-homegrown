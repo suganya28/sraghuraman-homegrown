{
  "nbformat": 4,
  "nbformat_minor": 0,
  "metadata": {
    "kernelspec": {
      "display_name": "Python 3",
      "language": "python",
      "name": "python3"
    },
    "language_info": {
      "codemirror_mode": {
        "name": "ipython",
        "version": 3
      },
      "file_extension": ".py",
      "mimetype": "text/x-python",
      "name": "python",
      "nbconvert_exporter": "python",
      "pygments_lexer": "ipython3",
      "version": "3.7.3"
    },
    "colab": {
      "name": "Week2_PythonProgramming_Homework.ipynb",
      "version": "0.3.2",
      "provenance": [],
      "collapsed_sections": [
        "SUGt5-iAulCd",
        "BPUJDFcgulC7",
        "dCjq0KdFulDB",
        "uDqWcS_OulDR",
        "q4fNXi2LulDe",
        "_Fs4r_AsulDv"
      ]
    }
  },
  "cells": [
    {
      "cell_type": "markdown",
      "metadata": {
        "id": "5Yi0gziQulBg",
        "colab_type": "text"
      },
      "source": [
        "## Week2 Python Programming"
      ]
    },
    {
      "cell_type": "markdown",
      "metadata": {
        "id": "IlquJ0wXulBh",
        "colab_type": "text"
      },
      "source": [
        "In week2, we've covered:\n",
        "* Create **variables** \n",
        "* Different **data types**:\n",
        "    * int\n",
        "    * float\n",
        "    * boolean\n",
        "    * string\n",
        "* Import **standard library**:\n",
        "    * math"
      ]
    },
    {
      "cell_type": "markdown",
      "metadata": {
        "id": "oQQyxF1julBh",
        "colab_type": "text"
      },
      "source": [
        "The best way to consolidate the knowledge in your mind is by practing.<br>Please complete the part marked with <span style=\"color:green\">**# TODO**</span>.\n",
        "\n",
        "[Google](www.google.com) and [Python Documentation](https://docs.python.org/3/contents.html) are your good friends if you have any python questions.\n",
        "\n",
        "Upload **Week2_PythonProgramming_Homework.ipynb** notebook to your Google Drive and open it with Google Colab."
      ]
    },
    {
      "cell_type": "markdown",
      "metadata": {
        "id": "CdK3fUBBulBi",
        "colab_type": "text"
      },
      "source": [
        "## Variables and types"
      ]
    },
    {
      "cell_type": "markdown",
      "metadata": {
        "id": "hdrDby40ulBj",
        "colab_type": "text"
      },
      "source": [
        "### Symbol names"
      ]
    },
    {
      "cell_type": "markdown",
      "metadata": {
        "id": "fMvJ54zCulBj",
        "colab_type": "text"
      },
      "source": [
        "Variable names in Python can contain alphanumerical characters `a-z`, `A-Z`, `0-9` and some special characters such as `_`. Normal variable names must start with a letter. \n",
        "\n",
        "By convention, variable names start with a lower-case letter, and Class names start with a capital letter. \n",
        "\n",
        "In addition, there are a number of Python keywords that cannot be used as variable names. These keywords are:\n",
        "\n",
        "    and, as, assert, break, class, continue, def, del, elif, else, except, \n",
        "    exec, finally, for, from, global, if, import, in, is, lambda, not, or,\n",
        "    pass, print, raise, return, try, while, with, yield"
      ]
    },
    {
      "cell_type": "markdown",
      "metadata": {
        "id": "ZlKwGzNaulBk",
        "colab_type": "text"
      },
      "source": [
        "## Assignment"
      ]
    },
    {
      "cell_type": "markdown",
      "metadata": {
        "id": "3EVnTYJAulBl",
        "colab_type": "text"
      },
      "source": [
        "\n",
        "The assignment operator in Python is `=`. Python is a dynamically typed language, so we do not need to specify the type of a variable when we create one."
      ]
    },
    {
      "cell_type": "markdown",
      "metadata": {
        "id": "j1BfraT6ulBm",
        "colab_type": "text"
      },
      "source": [
        "Assign an `int` to a variable with name `x` and print its type."
      ]
    },
    {
      "cell_type": "code",
      "metadata": {
        "id": "5GKaaOgSulBm",
        "colab_type": "code",
        "outputId": "ebf27f71-e7eb-4823-c891-2987c4f8cf0a",
        "colab": {
          "base_uri": "https://localhost:8080/",
          "height": 35
        }
      },
      "source": [
        "x= 5\n",
        "\n",
        "type(x)\n"
      ],
      "execution_count": 0,
      "outputs": [
        {
          "output_type": "execute_result",
          "data": {
            "text/plain": [
              "int"
            ]
          },
          "metadata": {
            "tags": []
          },
          "execution_count": 2
        }
      ]
    },
    {
      "cell_type": "markdown",
      "metadata": {
        "id": "xSmEYAEbulBs",
        "colab_type": "text"
      },
      "source": [
        "Assign a new value with `string` type to the same varaible `x` and print its type."
      ]
    },
    {
      "cell_type": "code",
      "metadata": {
        "id": "7qJ4jsnuulBs",
        "colab_type": "code",
        "outputId": "01795ac2-544c-4223-eab7-4b5e846d6d34",
        "colab": {
          "base_uri": "https://localhost:8080/",
          "height": 35
        }
      },
      "source": [
        "x = \"friday\"\n",
        "type(x)\n"
      ],
      "execution_count": 0,
      "outputs": [
        {
          "output_type": "execute_result",
          "data": {
            "text/plain": [
              "str"
            ]
          },
          "metadata": {
            "tags": []
          },
          "execution_count": 3
        }
      ]
    },
    {
      "cell_type": "markdown",
      "metadata": {
        "id": "LDYn_WHOulBv",
        "colab_type": "text"
      },
      "source": [
        "Print the value of a variable that has not been defined, see what error do you get:"
      ]
    },
    {
      "cell_type": "code",
      "metadata": {
        "id": "IU7XOjDkulBv",
        "colab_type": "code",
        "outputId": "92a356e3-ef9f-461b-d453-8c2ec7923753",
        "colab": {
          "base_uri": "https://localhost:8080/",
          "height": 166
        }
      },
      "source": [
        "type(y)\n"
      ],
      "execution_count": 0,
      "outputs": [
        {
          "output_type": "error",
          "ename": "NameError",
          "evalue": "ignored",
          "traceback": [
            "\u001b[0;31m---------------------------------------------------------------------------\u001b[0m",
            "\u001b[0;31mNameError\u001b[0m                                 Traceback (most recent call last)",
            "\u001b[0;32m<ipython-input-4-74463a5214db>\u001b[0m in \u001b[0;36m<module>\u001b[0;34m()\u001b[0m\n\u001b[0;32m----> 1\u001b[0;31m \u001b[0mtype\u001b[0m\u001b[0;34m(\u001b[0m\u001b[0my\u001b[0m\u001b[0;34m)\u001b[0m\u001b[0;34m\u001b[0m\u001b[0;34m\u001b[0m\u001b[0m\n\u001b[0m",
            "\u001b[0;31mNameError\u001b[0m: name 'y' is not defined"
          ]
        }
      ]
    },
    {
      "cell_type": "markdown",
      "metadata": {
        "id": "LWFRbBL-ulBx",
        "colab_type": "text"
      },
      "source": [
        "## Operators and comparisons"
      ]
    },
    {
      "cell_type": "markdown",
      "metadata": {
        "id": "pD8fgkknulBy",
        "colab_type": "text"
      },
      "source": [
        "Most operators and comparisons in Python work as one would expect:\n",
        "\n",
        "* Arithmetic operators `+`, `-`, `*`, `/`, `//` (integer division), '**' power"
      ]
    },
    {
      "cell_type": "markdown",
      "metadata": {
        "id": "nExJY9ksulBz",
        "colab_type": "text"
      },
      "source": [
        "Print the sum, difference, mutplication, and divison between `1` and `2`."
      ]
    },
    {
      "cell_type": "code",
      "metadata": {
        "id": "zlIy6SbTulB0",
        "colab_type": "code",
        "outputId": "d98e031d-8e2e-4332-d9ef-72fea6feaa8a",
        "colab": {
          "base_uri": "https://localhost:8080/",
          "height": 35
        }
      },
      "source": [
        "x= 1+2\n",
        "y= 1*2\n",
        "z= 1/2\n",
        "\n",
        "print(\"Addition -\", x, \"Multiplication -\", y, \"Division - \",z)\n"
      ],
      "execution_count": 0,
      "outputs": [
        {
          "output_type": "stream",
          "text": [
            "Addition - 3 Multiplication - 2 Division -  0.5\n"
          ],
          "name": "stdout"
        }
      ]
    },
    {
      "cell_type": "markdown",
      "metadata": {
        "id": "vR3El5CqulB3",
        "colab_type": "text"
      },
      "source": [
        "Carry out Interger division of two float numbers."
      ]
    },
    {
      "cell_type": "code",
      "metadata": {
        "id": "6q0WC4_hulB4",
        "colab_type": "code",
        "outputId": "c8a83e25-9906-4bac-9e05-4b09a83a0955",
        "colab": {
          "base_uri": "https://localhost:8080/",
          "height": 35
        }
      },
      "source": [
        "x=6.0\n",
        "y=3.0\n",
        "\n",
        "print(x/y)\n"
      ],
      "execution_count": 0,
      "outputs": [
        {
          "output_type": "stream",
          "text": [
            "2.0\n"
          ],
          "name": "stdout"
        }
      ]
    },
    {
      "cell_type": "markdown",
      "metadata": {
        "id": "l_d5BedOulCD",
        "colab_type": "text"
      },
      "source": [
        "What is the value of `2` Power `15`?"
      ]
    },
    {
      "cell_type": "code",
      "metadata": {
        "id": "95xZvQIwulCI",
        "colab_type": "code",
        "outputId": "6cd24e60-5afd-4682-9862-f8cdf029e7f1",
        "colab": {
          "base_uri": "https://localhost:8080/",
          "height": 35
        }
      },
      "source": [
        "print(2**15)\n"
      ],
      "execution_count": 0,
      "outputs": [
        {
          "output_type": "stream",
          "text": [
            "32768\n"
          ],
          "name": "stdout"
        }
      ]
    },
    {
      "cell_type": "markdown",
      "metadata": {
        "id": "K311VQhFulCO",
        "colab_type": "text"
      },
      "source": [
        "Are the types of `1+2` and `1.0+2` the same?"
      ]
    },
    {
      "cell_type": "code",
      "metadata": {
        "id": "ph9_uC_BulCP",
        "colab_type": "code",
        "outputId": "8f5d2a13-7afe-4629-ddec-56ba5b13b760",
        "colab": {
          "base_uri": "https://localhost:8080/",
          "height": 35
        }
      },
      "source": [
        "print(1+2, 1.0+2)\n",
        "\n",
        "No they are not same , one is integer as both numbers are intergers and the other is float\n"
      ],
      "execution_count": 0,
      "outputs": [
        {
          "output_type": "stream",
          "text": [
            "3 3.0\n"
          ],
          "name": "stdout"
        }
      ]
    },
    {
      "cell_type": "markdown",
      "metadata": {
        "id": "LNHgPQCYulCR",
        "colab_type": "text"
      },
      "source": [
        "* The boolean operators are spelled out as the words `and`, `not`, `or`.  "
      ]
    },
    {
      "cell_type": "markdown",
      "metadata": {
        "id": "kq8VD_h0ulCR",
        "colab_type": "text"
      },
      "source": [
        "* Comparison operators `>`, `<`, `>=` (greater or equal), `<=` (less or equal), `==` equality, `is` identical."
      ]
    },
    {
      "cell_type": "markdown",
      "metadata": {
        "id": "zijbW5AaulCS",
        "colab_type": "text"
      },
      "source": [
        "Compare two boolean `True` and `False`"
      ]
    },
    {
      "cell_type": "code",
      "metadata": {
        "id": "BTbNkM-qulCS",
        "colab_type": "code",
        "outputId": "c5956892-2b79-423c-f999-709ef04075a2",
        "colab": {
          "base_uri": "https://localhost:8080/",
          "height": 52
        }
      },
      "source": [
        "x=5\n",
        "y=2\n",
        "\n",
        "print(\"Boolean True/false - \", x==y)\n",
        "\n",
        "\n",
        "z=5\n",
        "a=5\n",
        "\n",
        "print(\"Boolean True/false - \", z==a)\n",
        "\n"
      ],
      "execution_count": 0,
      "outputs": [
        {
          "output_type": "stream",
          "text": [
            "Boolean True/false -  False\n",
            "Boolean True/false -  True\n"
          ],
          "name": "stdout"
        }
      ]
    },
    {
      "cell_type": "markdown",
      "metadata": {
        "id": "1ZOLVfxculCU",
        "colab_type": "text"
      },
      "source": [
        "Use `False` to get `True`"
      ]
    },
    {
      "cell_type": "code",
      "metadata": {
        "id": "TrZ3NxYCulCV",
        "colab_type": "code",
        "outputId": "6984c101-a165-4aa2-fba8-dea66f02f7d0",
        "colab": {
          "base_uri": "https://localhost:8080/",
          "height": 35
        }
      },
      "source": [
        "x=5\n",
        "y=2\n",
        "\n",
        "boolean= x==y\n",
        "print(not(boolean))\n"
      ],
      "execution_count": 0,
      "outputs": [
        {
          "output_type": "stream",
          "text": [
            "True\n"
          ],
          "name": "stdout"
        }
      ]
    },
    {
      "cell_type": "markdown",
      "metadata": {
        "id": "w5rqmJs3ulCX",
        "colab_type": "text"
      },
      "source": [
        "Inclue both `False` and `True` in your code to get `True`"
      ]
    },
    {
      "cell_type": "code",
      "metadata": {
        "id": "UyonU7NCulCY",
        "colab_type": "code",
        "outputId": "a9d5e776-7d8c-4b3d-a17c-daf42a3f16cb",
        "colab": {
          "base_uri": "https://localhost:8080/",
          "height": 35
        }
      },
      "source": [
        "x= 4\n",
        "y=2\n",
        "\n",
        "greater= x>y\n",
        "equals= x==y\n",
        "\n",
        "print(not(greater and equals))\n",
        "\n"
      ],
      "execution_count": 0,
      "outputs": [
        {
          "output_type": "stream",
          "text": [
            "True\n"
          ],
          "name": "stdout"
        }
      ]
    },
    {
      "cell_type": "markdown",
      "metadata": {
        "id": "F3d1uynOulCa",
        "colab_type": "text"
      },
      "source": [
        "Use two different ways: `==` and `is` to check if `l1` and `l2` is identical."
      ]
    },
    {
      "cell_type": "code",
      "metadata": {
        "id": "5NCSX8aoulCb",
        "colab_type": "code",
        "outputId": "a0b6e1d0-4703-42ba-a39d-f1f31a6e9a2a",
        "colab": {
          "base_uri": "https://localhost:8080/",
          "height": 52
        }
      },
      "source": [
        "# TODO\n",
        "l1 = [1, 2]\n",
        "l2 = [1, 2.0]\n",
        "\n",
        "\n",
        "print(\"Using == Operator\", sorted(l1)== sorted(l2))\n",
        "\n",
        "print(\"using is operator\",l1 is l2)\n",
        "\n"
      ],
      "execution_count": 0,
      "outputs": [
        {
          "output_type": "stream",
          "text": [
            "Using == Operator True\n",
            "using is operator False\n"
          ],
          "name": "stdout"
        }
      ]
    },
    {
      "cell_type": "markdown",
      "metadata": {
        "id": "SUGt5-iAulCd",
        "colab_type": "text"
      },
      "source": [
        "## Strings"
      ]
    },
    {
      "cell_type": "markdown",
      "metadata": {
        "id": "RxpKCI9IulCe",
        "colab_type": "text"
      },
      "source": [
        "Strings are the variables type that is used for storing text messages."
      ]
    },
    {
      "cell_type": "markdown",
      "metadata": {
        "id": "YLYOxWXmulCe",
        "colab_type": "text"
      },
      "source": [
        "Create three string variables, and use one `print` to display all three variables."
      ]
    },
    {
      "cell_type": "code",
      "metadata": {
        "id": "Iy-DiW0-ulCf",
        "colab_type": "code",
        "outputId": "2ffbea4a-624c-4e11-bd7d-9053ac26277e",
        "colab": {
          "base_uri": "https://localhost:8080/",
          "height": 35
        }
      },
      "source": [
        "x= \"Monday\"\n",
        "y= \"Tuesday\"\n",
        "z= \"wednesday\"\n",
        "\n",
        "print(x,y,z)"
      ],
      "execution_count": 0,
      "outputs": [
        {
          "output_type": "stream",
          "text": [
            "Monday Tuesday wednesday\n"
          ],
          "name": "stdout"
        }
      ]
    },
    {
      "cell_type": "markdown",
      "metadata": {
        "id": "0tbuS87NulCh",
        "colab_type": "text"
      },
      "source": [
        "Check the length of \"Hello world!\"."
      ]
    },
    {
      "cell_type": "code",
      "metadata": {
        "id": "Y5fx-lqWulCj",
        "colab_type": "code",
        "outputId": "b1842e30-0f2d-477b-cec3-d07f39ea68b2",
        "colab": {
          "base_uri": "https://localhost:8080/",
          "height": 35
        }
      },
      "source": [
        "x= \"Hello world!\"\n",
        "\n",
        "print(len(x))\n"
      ],
      "execution_count": 0,
      "outputs": [
        {
          "output_type": "stream",
          "text": [
            "12\n"
          ],
          "name": "stdout"
        }
      ]
    },
    {
      "cell_type": "markdown",
      "metadata": {
        "id": "NfLXOjQMulCq",
        "colab_type": "text"
      },
      "source": [
        "Get the index `0`character in a string."
      ]
    },
    {
      "cell_type": "code",
      "metadata": {
        "id": "K4r6nCkIulCs",
        "colab_type": "code",
        "outputId": "df8469ec-6c9e-475c-9fd3-341b86d8aa7c",
        "colab": {
          "base_uri": "https://localhost:8080/",
          "height": 35
        }
      },
      "source": [
        "x= \"Hello world!\"\n",
        "\n",
        "print(x[0])"
      ],
      "execution_count": 0,
      "outputs": [
        {
          "output_type": "stream",
          "text": [
            "H\n"
          ],
          "name": "stdout"
        }
      ]
    },
    {
      "cell_type": "markdown",
      "metadata": {
        "id": "hy7wDRUbulCu",
        "colab_type": "text"
      },
      "source": [
        "Get the first 3 characters in a string."
      ]
    },
    {
      "cell_type": "code",
      "metadata": {
        "id": "cAYrvmQUulCv",
        "colab_type": "code",
        "outputId": "544c75ad-8999-4c46-b8e0-89d0ce8f5930",
        "colab": {
          "base_uri": "https://localhost:8080/",
          "height": 35
        }
      },
      "source": [
        "x= \"Hello world!\"\n",
        "\n",
        "print(x[0:3])\n"
      ],
      "execution_count": 0,
      "outputs": [
        {
          "output_type": "stream",
          "text": [
            "Hel\n"
          ],
          "name": "stdout"
        }
      ]
    },
    {
      "cell_type": "markdown",
      "metadata": {
        "id": "L-tgYWleulCy",
        "colab_type": "text"
      },
      "source": [
        "Use a start index and a stop index to get the fifth character in a string."
      ]
    },
    {
      "cell_type": "code",
      "metadata": {
        "id": "8__sNiFNulC0",
        "colab_type": "code",
        "outputId": "c250c9c3-33fb-485c-b998-ad435bc0e2b5",
        "colab": {
          "base_uri": "https://localhost:8080/",
          "height": 35
        }
      },
      "source": [
        "# TODO\n",
        "s = \"Red Ventures\"\n",
        "print(s[4:5])"
      ],
      "execution_count": 0,
      "outputs": [
        {
          "output_type": "stream",
          "text": [
            "V\n"
          ],
          "name": "stdout"
        }
      ]
    },
    {
      "cell_type": "markdown",
      "metadata": {
        "id": "FrzwP2DNulC4",
        "colab_type": "text"
      },
      "source": [
        "Get the last character in a string."
      ]
    },
    {
      "cell_type": "code",
      "metadata": {
        "id": "2dAJMWNKulC5",
        "colab_type": "code",
        "outputId": "0bd69531-2cb2-4732-804e-c6791e9e35ce",
        "colab": {
          "base_uri": "https://localhost:8080/",
          "height": 35
        }
      },
      "source": [
        "# TODO\n",
        "s = \"Charlotte\"\n",
        "\n",
        "print(s[-1])\n"
      ],
      "execution_count": 0,
      "outputs": [
        {
          "output_type": "stream",
          "text": [
            "e\n"
          ],
          "name": "stdout"
        }
      ]
    },
    {
      "cell_type": "markdown",
      "metadata": {
        "id": "BPUJDFcgulC7",
        "colab_type": "text"
      },
      "source": [
        "#### Escape characters\n",
        "In Python strings, the backslash \"\\\\\" is a special character, also called the **\"escape\"** character. It is used in representing certain whitespace characters: \"\\t\" is a tab, \"\\n\" is a newline, and \"\\r\" is a carriage return. Conversely, prefixing a special character with \"\\\" turns it into an ordinary character."
      ]
    },
    {
      "cell_type": "markdown",
      "metadata": {
        "id": "nO90O1lAulC8",
        "colab_type": "text"
      },
      "source": [
        "Print out the following strings:\n",
        "<pre>\n",
        "'    Everything is written in pencil.'\n",
        "\n",
        "'Everything is written\n",
        " in pencil.'\n",
        " \n",
        "'Everything \\ is written \\ in pencil.'\n",
        "\n",
        "'Red Ventures brands, just list a few:\n",
        "   * Bankrate\n",
        "   * Reviews.com\n",
        "   * the Points Guy\n",
        "   * creditcards.com'\n",
        "</pre>"
      ]
    },
    {
      "cell_type": "code",
      "metadata": {
        "id": "XFAaDhkBulC9",
        "colab_type": "code",
        "outputId": "ac3fa008-1364-40c8-9ce8-dfad29ce70b6",
        "colab": {
          "base_uri": "https://localhost:8080/",
          "height": 173
        }
      },
      "source": [
        "# TODO\n",
        "print( \" '\\t Everything is written in pencil'.\")\n",
        "\n",
        "print(\"'Everything is written \\n in pencil.'\")\n",
        "\n",
        "print(\"'Everything \\ is written \\ in pencil.'\")\n",
        " \n",
        "print(\"'Red Ventures brands, just list a few: \\n * Bankrate \\n * Reviews.com \\n * the Points Guy \\n * creditcards.com'\")"
      ],
      "execution_count": 0,
      "outputs": [
        {
          "output_type": "stream",
          "text": [
            " '\t Everything is written in pencil'.\n",
            "'Everything is written \n",
            " in pencil.'\n",
            "'Everything \\ is written \\ in pencil.'\n",
            "'Red Ventures brands, just list a few: \n",
            " * Bankrate \n",
            " * Reviews.com \n",
            " * the Points Guy \n",
            " * creditcards.com'\n"
          ],
          "name": "stdout"
        }
      ]
    },
    {
      "cell_type": "markdown",
      "metadata": {
        "id": "dCjq0KdFulDB",
        "colab_type": "text"
      },
      "source": [
        "#### String methods\n",
        "Here are some of the most common string methods. A method is like a function, but it runs \"on\" an object. If the variable s is a string, then the code s.lower() runs the lower() method on that string object and returns the result (this idea of a method running on an object is one of the basic ideas that make up Object Oriented Programming, OOP). Here are some of the most common string methods:\n",
        "\n",
        "lower(), upper(), strip(), isdigit(), startswith(), endswith(), find(), replace(), split(), join()\n",
        "\n",
        "[Documentation](https://docs.python.org/3/library/stdtypes.html#string-methods)"
      ]
    },
    {
      "cell_type": "markdown",
      "metadata": {
        "id": "284h1D-UulDB",
        "colab_type": "text"
      },
      "source": [
        "Convert all letters to lower cases."
      ]
    },
    {
      "cell_type": "code",
      "metadata": {
        "id": "Y6zGUy8CulDC",
        "colab_type": "code",
        "outputId": "740f4429-c25a-4f2b-b0a0-e044ee919f84",
        "colab": {
          "base_uri": "https://localhost:8080/",
          "height": 35
        }
      },
      "source": [
        "# TODO\n",
        "s = 'RED FISH'\n",
        "\n",
        "print(s.lower())\n"
      ],
      "execution_count": 0,
      "outputs": [
        {
          "output_type": "stream",
          "text": [
            "red fish\n"
          ],
          "name": "stdout"
        }
      ]
    },
    {
      "cell_type": "markdown",
      "metadata": {
        "id": "H6AKX5tSulDD",
        "colab_type": "text"
      },
      "source": [
        "Check if string starts with `r`"
      ]
    },
    {
      "cell_type": "code",
      "metadata": {
        "id": "eS4Vd9ziulDF",
        "colab_type": "code",
        "outputId": "145138c6-7371-4584-aa94-b11d90c767e5",
        "colab": {
          "base_uri": "https://localhost:8080/",
          "height": 35
        }
      },
      "source": [
        "# TODO\n",
        "s = 'Run Up Escalators'\n",
        "\n",
        "print(s.startswith('R'))\n"
      ],
      "execution_count": 0,
      "outputs": [
        {
          "output_type": "stream",
          "text": [
            "True\n"
          ],
          "name": "stdout"
        }
      ]
    },
    {
      "cell_type": "markdown",
      "metadata": {
        "id": "7jbNZtVOulDN",
        "colab_type": "text"
      },
      "source": [
        "Find the index of the single quote."
      ]
    },
    {
      "cell_type": "code",
      "metadata": {
        "id": "JrArMxX0ulDP",
        "colab_type": "code",
        "outputId": "ff102098-3fe7-454f-d48f-8f594b1e9748",
        "colab": {
          "base_uri": "https://localhost:8080/",
          "height": 35
        }
      },
      "source": [
        "# TODO\n",
        "s = \"You don't have to lie.\"\n",
        "\n",
        "print(s.find(\"'\"))"
      ],
      "execution_count": 0,
      "outputs": [
        {
          "output_type": "stream",
          "text": [
            "7\n"
          ],
          "name": "stdout"
        }
      ]
    },
    {
      "cell_type": "markdown",
      "metadata": {
        "id": "uDqWcS_OulDR",
        "colab_type": "text"
      },
      "source": [
        "## Type casting\n",
        "The process of converting the value of one data type to another is called type casting or type conversion."
      ]
    },
    {
      "cell_type": "markdown",
      "metadata": {
        "id": "8zTNeH2uulDS",
        "colab_type": "text"
      },
      "source": [
        "Cast variable `z` to `int` and print its type."
      ]
    },
    {
      "cell_type": "code",
      "metadata": {
        "id": "FHcDCTO_ulDS",
        "colab_type": "code",
        "outputId": "c5de3563-431d-47f4-942c-0fb7767ccdfd",
        "colab": {
          "base_uri": "https://localhost:8080/",
          "height": 35
        }
      },
      "source": [
        "z= 5.2\n",
        "\n",
        "print(type(int(z)))\n"
      ],
      "execution_count": 0,
      "outputs": [
        {
          "output_type": "stream",
          "text": [
            "<class 'int'>\n"
          ],
          "name": "stdout"
        }
      ]
    },
    {
      "cell_type": "markdown",
      "metadata": {
        "id": "bNl0Mxc6ulDU",
        "colab_type": "text"
      },
      "source": [
        "Are the types of 1 + 2 and 1.0 + 2 the same?"
      ]
    },
    {
      "cell_type": "code",
      "metadata": {
        "id": "2smW73YjulDU",
        "colab_type": "code",
        "outputId": "527f86c6-e63a-4fdd-ade3-415d1c7dc65c",
        "colab": {
          "base_uri": "https://localhost:8080/",
          "height": 52
        }
      },
      "source": [
        "# TODO\n",
        "print(type(1+2))\n",
        "print(type(1.0+2))\n",
        "\n",
        "They are different, since the second one contains the float variable the type will be float"
      ],
      "execution_count": 0,
      "outputs": [
        {
          "output_type": "stream",
          "text": [
            "<class 'int'>\n",
            "<class 'float'>\n"
          ],
          "name": "stdout"
        }
      ]
    },
    {
      "cell_type": "markdown",
      "metadata": {
        "id": "K0wxZ0qLulDX",
        "colab_type": "text"
      },
      "source": [
        "Add num_int and num_str, you should provide two outputs. One is a string and the other is an int."
      ]
    },
    {
      "cell_type": "code",
      "metadata": {
        "id": "JgCtcQzxulDX",
        "colab_type": "code",
        "outputId": "fd6dd5f3-852d-43e0-eab5-0484f81ab8b4",
        "colab": {
          "base_uri": "https://localhost:8080/",
          "height": 52
        }
      },
      "source": [
        "# TODO\n",
        "num_int = 123\n",
        "num_str = \"456\"\n",
        "\n",
        "print(\"int\",num_int+ int(num_str))\n",
        "print(\"string\", str(num_int)+num_str)\n",
        "\n",
        "\n"
      ],
      "execution_count": 0,
      "outputs": [
        {
          "output_type": "stream",
          "text": [
            "int 579\n",
            "string 123456\n"
          ],
          "name": "stdout"
        }
      ]
    },
    {
      "cell_type": "markdown",
      "metadata": {
        "id": "L2AiRhCMulDa",
        "colab_type": "text"
      },
      "source": [
        "What happends if you cast `-1` to a boolean?"
      ]
    },
    {
      "cell_type": "code",
      "metadata": {
        "id": "7KlEYUZiulDd",
        "colab_type": "code",
        "outputId": "e079d94b-1c3e-42d1-a719-cf76f4ae4bd6",
        "colab": {
          "base_uri": "https://localhost:8080/",
          "height": 35
        }
      },
      "source": [
        "\n",
        "bool(-1)\n"
      ],
      "execution_count": 0,
      "outputs": [
        {
          "output_type": "execute_result",
          "data": {
            "text/plain": [
              "True"
            ]
          },
          "metadata": {
            "tags": []
          },
          "execution_count": 67
        }
      ]
    },
    {
      "cell_type": "markdown",
      "metadata": {
        "id": "q4fNXi2LulDe",
        "colab_type": "text"
      },
      "source": [
        "## Standard Library\n",
        "Python’s standard library is very extensive, offering a wide range of facilities. The library contains built-in modules (written in C) that provide access to system functionality as well as modules written in Python that provide standardized solutions for many problems that occur in everyday programming. \n",
        "\n",
        "For example, the `math` module gives access to the underlying C library functions for floating point math.\n",
        "\n",
        "[Documentation](https://docs.python.org/3/library/math.html)\n",
        "<br>\n",
        "<br>"
      ]
    },
    {
      "cell_type": "markdown",
      "metadata": {
        "id": "BsBHgEwqulDf",
        "colab_type": "text"
      },
      "source": [
        "Import math module and calcualte $e^4$."
      ]
    },
    {
      "cell_type": "code",
      "metadata": {
        "id": "IwtXvGAvulDf",
        "colab_type": "code",
        "outputId": "ae8b5214-afc3-4536-9b66-de5df0a41496",
        "colab": {
          "base_uri": "https://localhost:8080/",
          "height": 35
        }
      },
      "source": [
        "import math\n",
        "print(pow(math.e,4))\n"
      ],
      "execution_count": 0,
      "outputs": [
        {
          "output_type": "stream",
          "text": [
            "54.59815003314423\n"
          ],
          "name": "stdout"
        }
      ]
    },
    {
      "cell_type": "markdown",
      "metadata": {
        "id": "k4ps9H0oulDh",
        "colab_type": "text"
      },
      "source": [
        "Calculate the value of $log_2(8)$."
      ]
    },
    {
      "cell_type": "code",
      "metadata": {
        "id": "7YAfY4mrulDh",
        "colab_type": "code",
        "outputId": "f7447bbd-7177-4f22-9dbf-c7c8485c916d",
        "colab": {
          "base_uri": "https://localhost:8080/",
          "height": 35
        }
      },
      "source": [
        "import math\n",
        "print(math.log(8,2))\n"
      ],
      "execution_count": 0,
      "outputs": [
        {
          "output_type": "stream",
          "text": [
            "3.0\n"
          ],
          "name": "stdout"
        }
      ]
    },
    {
      "cell_type": "markdown",
      "metadata": {
        "id": "A3ZSPZ3KulDj",
        "colab_type": "text"
      },
      "source": [
        "Calculate the value of $\\sqrt{100}$."
      ]
    },
    {
      "cell_type": "code",
      "metadata": {
        "id": "Q5OcEOyculDj",
        "colab_type": "code",
        "outputId": "a0de009f-0b60-447a-e805-d671123f3584",
        "colab": {
          "base_uri": "https://localhost:8080/",
          "height": 35
        }
      },
      "source": [
        "import math\n",
        "print(math.sqrt(100))\n"
      ],
      "execution_count": 0,
      "outputs": [
        {
          "output_type": "stream",
          "text": [
            "10.0\n"
          ],
          "name": "stdout"
        }
      ]
    },
    {
      "cell_type": "markdown",
      "metadata": {
        "id": "_Fs4r_AsulDv",
        "colab_type": "text"
      },
      "source": [
        "## Submission\n",
        "\n",
        "Download completed **Week2_PythonProgramming_Homework.ipynb** from Google Colab and commit to your personal Github repo you shared with the faculty."
      ]
    }
  ]
}